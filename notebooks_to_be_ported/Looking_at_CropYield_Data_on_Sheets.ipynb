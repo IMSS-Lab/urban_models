{
  "cells": [
    {
      "cell_type": "code",
      "execution_count": null,
      "metadata": {
        "colab": {
          "base_uri": "https://localhost:8080/"
        },
        "collapsed": true,
        "id": "hrxD600lNuiK",
        "outputId": "4dc2f57e-e305-4222-a3a7-55c792d0c85d"
      },
      "outputs": [],
      "source": [
        "!pip install netCDF4"
      ]
    },
    {
      "cell_type": "code",
      "execution_count": null,
      "metadata": {
        "id": "lQ061kZ5OMKO"
      },
      "outputs": [],
      "source": [
        "import matplotlib.pyplot as plt\n",
        "import netCDF4\n",
        "import numpy as np\n",
        "import string\n",
        "\n",
        "import torch\n",
        "import torch.nn as nn\n",
        "import torch.nn.functional as F\n",
        "from torch.utils.data import DataLoader\n",
        "from torchvision import datasets, transforms\n",
        "from torchvision.utils import make_grid\n",
        "\n",
        "import numpy as np\n",
        "import pandas as pd\n",
        "from sklearn.metrics import confusion_matrix\n",
        "import matplotlib.pyplot as plot\n",
        "%matplotlib inline"
      ]
    },
    {
      "cell_type": "markdown",
      "metadata": {
        "id": "zCi5rq2K9AZM"
      },
      "source": []
    },
    {
      "cell_type": "code",
      "execution_count": null,
      "metadata": {
        "colab": {
          "base_uri": "https://localhost:8080/",
          "height": 1000
        },
        "id": "J77ZES5olqz9",
        "outputId": "a2b051d8-ec41-4f3a-b9b3-8ae9ccb6e88e"
      },
      "outputs": [],
      "source": [
        "nc = netCDF4.Dataset(\"/content/springyield_2016.nc4\")\n",
        "lon1 = nc.variables['lon'][:]\n",
        "lat1 = nc.variables['lat'][:]\n",
        "yield_at_time1 = nc.variables['var'][:]\n",
        "\n",
        "plt.figure(figsize=(10, 10))\n",
        "plt.imshow(yield_at_time1, origin='lower', extent=[lon1.min(), lon1.max(), lat1.min(), lat1.max(),], aspect='auto', cmap='coolwarm', vmin=nc.variables['var'][:].min(), vmax=nc.variables['var'][:].max())\n",
        "plt.title('Yield')\n",
        "plt.xlabel('Longtitude')\n",
        "plt.ylabel('Latitude')\n",
        "plt.colorbar(label='Yield')\n",
        "plt.show()\n",
        "plt.close()\n",
        "\n",
        "nc = netCDF4.Dataset(\"/content/winteryield_2016.nc4\")\n",
        "lon2 = nc.variables['lon'][:]\n",
        "lat2 = nc.variables['lat'][:]\n",
        "yield_at_time2 = nc.variables['var'][:]\n",
        "\n",
        "plt.figure(figsize=(10, 10))\n",
        "plt.imshow(yield_at_time2, origin='lower', extent=[lon2.min(), lon2.max(), lat2.min(), lat2.max(),], aspect='auto', cmap='PuOr', vmin=nc.variables['var'][:].min(), vmax=nc.variables['var'][:].max())\n",
        "plt.title('Yield')\n",
        "plt.xlabel('Longtitude')\n",
        "plt.ylabel('Latitude')\n",
        "plt.colorbar(label='Yield')\n",
        "plt.show()\n",
        "plt.close()\n",
        "\n",
        "################################################################################\n",
        "\n",
        "from google.colab import auth\n",
        "auth.authenticate_user()\n",
        "\n",
        "import gspread\n",
        "from google.auth import default\n",
        "creds, _ = default()\n",
        "\n",
        "gc = gspread.authorize(creds)\n",
        "\n",
        "ws = gc.open('map data').sheet1\n",
        "# link to sheet: https://docs.google.com/spreadsheets/d/17bffZenh_TK5gDn0CoppMLiBpgf6r3f7MCrW1iB1j7g/edit?usp=sharing\n",
        "\n",
        "cells = ws.range('A2:A261000')\n",
        "i = 0\n",
        "for arr in yield_at_time1:\n",
        "  for x in arr.filled(0):\n",
        "    cells[i].value = float(x)\n",
        "    i+=1\n",
        "ws.update_cells(cells)\n",
        "\n",
        "cells = ws.range('B2:B261000')\n",
        "i = 0\n",
        "for arr in yield_at_time2:\n",
        "  for x in arr.filled(0):\n",
        "    cells[i].value = float(x)\n",
        "    i+=1\n",
        "ws.update_cells(cells)"
      ]
    }
  ],
  "metadata": {
    "colab": {
      "provenance": []
    },
    "kernelspec": {
      "display_name": "Python 3",
      "name": "python3"
    },
    "language_info": {
      "name": "python"
    }
  },
  "nbformat": 4,
  "nbformat_minor": 0
}
