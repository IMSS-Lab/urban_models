{
  "cells": [
    {
      "cell_type": "code",
      "execution_count": null,
      "metadata": {
        "colab": {
          "base_uri": "https://localhost:8080/"
        },
        "collapsed": true,
        "id": "oL7eZV1j7F-r",
        "outputId": "f5b099ac-45fc-49c5-9776-e93f2d1da85b"
      },
      "outputs": [],
      "source": [
        "  !pip install netCDF4\n",
        "!pip3 install numpy pylibtiff\n",
        "!pip install georasters"
      ]
    },
    {
      "cell_type": "code",
      "execution_count": null,
      "metadata": {
        "colab": {
          "base_uri": "https://localhost:8080/"
        },
        "id": "mTyC27f8qNAE",
        "outputId": "3d52149c-68da-4544-8806-bf74b672b916"
      },
      "outputs": [],
      "source": [
        "from google.colab import drive\n",
        "drive.mount('/content/drive')"
      ]
    },
    {
      "cell_type": "code",
      "execution_count": null,
      "metadata": {
        "id": "s8zxZgp70v2c"
      },
      "outputs": [],
      "source": [
        "import matplotlib.pyplot as plt\n",
        "import netCDF4\n",
        "import numpy as np\n",
        "import string\n",
        "\n",
        "import torch\n",
        "import torch.nn as nn\n",
        "import torch.nn.functional as F\n",
        "from torch.utils.data import DataLoader\n",
        "from torchvision import datasets, transforms\n",
        "from torchvision.utils import make_grid\n",
        "\n",
        "import pandas as pd\n",
        "from sklearn.metrics import confusion_matrix\n",
        "import matplotlib.pyplot as plot\n",
        "%matplotlib inline\n",
        "\n",
        "from google.colab import auth\n",
        "auth.authenticate_user()\n",
        "\n",
        "import gspread\n",
        "from google.auth import default\n",
        "creds, _ = default()\n",
        "\n",
        "gc = gspread.authorize(creds)\n",
        "\n",
        "ws = gc.open('map data').sheet1\n",
        "# link to sheet: https://docs.google.com/spreadsheets/d/17bffZenh_TK5gDn0CoppMLiBpgf6r3f7MCrW1iB1j7g/edit?usp=sharing\n",
        "\n",
        "from libtiff import TIFF\n",
        "import georasters as gr\n",
        "import xarray as xr"
      ]
    },
    {
      "cell_type": "code",
      "execution_count": null,
      "metadata": {
        "id": "ID9wS4cT4iPN"
      },
      "outputs": [],
      "source": [
        "def find_names(start_file_name):\n",
        "  arr=[]\n",
        "  currName=start_file_name\n",
        "  currYr=1992\n",
        "  maxYr=2016\n",
        "  ran=maxYr-currYr\n",
        "  for i in range(ran+1):\n",
        "    arr.append(currName)\n",
        "    currName = currName.replace(str(currYr), str(currYr+1))\n",
        "    currYr+=1\n",
        "  return np.array(arr)"
      ]
    },
    {
      "cell_type": "code",
      "execution_count": null,
      "metadata": {
        "id": "YMGoxlMpEAqr"
      },
      "outputs": [],
      "source": [
        "def calc_bounds(files, type):\n",
        "  global_var_min=10e9\n",
        "  global_var_max=10e-9\n",
        "  for i in files:\n",
        "    nc = netCDF4.Dataset(i)\n",
        "    time = nc.variables['time'][:]\n",
        "    for time_index in range(len(time)):\n",
        "      var = nc.variables[type][:]\n",
        "      global_var_min=min(global_var_min, var.min())\n",
        "      global_var_max=max(global_var_max, var.max())\n",
        "  return global_var_min,global_var_max"
      ]
    },
    {
      "cell_type": "code",
      "execution_count": null,
      "metadata": {
        "id": "n8agfUTskLQb"
      },
      "outputs": [],
      "source": [
        "def calc_bounds_crop(files):\n",
        "  global_var_min=10e9\n",
        "  global_var_max=10e-9\n",
        "  for i in files:\n",
        "    nc = netCDF4.Dataset(i)\n",
        "    yield_at_time = nc.variables['var'][:]\n",
        "    global_var_min=min(global_var_min, yield_at_time.min())\n",
        "    global_var_max=max(global_var_max, yield_at_time.max())\n",
        "  return global_var_min,global_var_max"
      ]
    },
    {
      "cell_type": "code",
      "execution_count": null,
      "metadata": {
        "id": "0Q1dzixKWFkV"
      },
      "outputs": [],
      "source": [
        "agriculture = []\n",
        "files = find_names(\"/content/drive/MyDrive/crop_yield/wheat/yield_1992.nc4\")\n",
        "vminfound,vmaxfound=calc_bounds_crop(files)\n",
        "for i in range(1992, 2017):\n",
        "  nc = netCDF4.Dataset(\"/content/drive/MyDrive/crop_yield/wheat/yield_\"+str(i)+\".nc4\")\n",
        "  lon1 = nc.variables['lon'][:]\n",
        "  lat1 = nc.variables['lat'][:]\n",
        "  yield_at_time1 = nc.variables['var'][:]\n",
        "  plt.figure(figsize=(10, 10))\n",
        "  plt.imshow(yield_at_time1, origin='lower', extent=[lat1.min(), lat1.max(), lon1.min(), lon1.max(),], aspect='auto', cmap='coolwarm', vmin=vminfound, vmax=vmaxfound)\n",
        "  plt.title(\"Yield in year \"+str(i))\n",
        "  plt.xlabel('Latitude')\n",
        "  plt.ylabel('Longitude')\n",
        "  plt.colorbar(label='Yield')\n",
        "  agriculture.append(plt.gcf())\n",
        "  plt.close()"
      ]
    },
    {
      "cell_type": "code",
      "execution_count": null,
      "metadata": {
        "collapsed": true,
        "id": "wZhSo1ixWHo0"
      },
      "outputs": [],
      "source": [
        "precipitation = []\n",
        "files = find_names(\"/content/drive/MyDrive/temp_and_precip/CRU_total_precipitation_mon_0.5x0.5_global_1992_v4.03.nc\")\n",
        "vminfound,vmaxfound=calc_bounds(files,'pr')\n",
        "for i in range(1992, 2017):\n",
        "  nc = netCDF4.Dataset(\"/content/drive/MyDrive/temp_and_precip/CRU_total_precipitation_mon_0.5x0.5_global_\"+str(i)+\"_v4.03.nc\")\n",
        "  time = nc.variables['time'][:]\n",
        "  lon = nc.variables['lon'][:]\n",
        "  lat = nc.variables['lat'][:]\n",
        "  varPrecip = nc.variables['pr'][:]\n",
        "  pr_at_time = varPrecip[0, :, :]\n",
        "  plt.figure(figsize=(10, 10))\n",
        "  plt.imshow(pr_at_time, origin='lower', extent=[lat.min(), lat.max(), lon.min(), lon.max()], aspect='auto', cmap='coolwarm', vmin=vminfound, vmax=vmaxfound)\n",
        "  plt.title(\"Precipitation in year \"+str(i))\n",
        "  plt.xlabel('Latitude')\n",
        "  plt.ylabel('Longitude')\n",
        "  plt.colorbar(label='Precipitation')\n",
        "  precipitation.append(plt.gcf())\n",
        "  plt.close()"
      ]
    },
    {
      "cell_type": "code",
      "execution_count": null,
      "metadata": {
        "colab": {
          "base_uri": "https://localhost:8080/",
          "height": 211
        },
        "collapsed": true,
        "id": "c9A0cbfcWKBX",
        "outputId": "343f2426-ec8f-45fc-c6a6-3f21923d2f15"
      },
      "outputs": [],
      "source": [
        "temperature = []\n",
        "files = find_names(\"/content/drive/MyDrive/temp_and_precip/CRU_mean_temperature_mon_0.5x0.5_global_1992_v4.03.nc\")\n",
        "vminfound,vmaxfound=calc_bounds(files,'tas')\n",
        "for i in range(1992, 2017):\n",
        "  nc = netCDF4.Dataset(\"/content/drive/MyDrive/temp_and_precip/CRU_mean_temperature_mon_0.5x0.5_global_\"+str(i)+\"_v4.03.nc\")\n",
        "  time = nc.variables['time'][:]\n",
        "  lon = nc.variables['lon'][:]\n",
        "  lat = nc.variables['lat'][:]\n",
        "  varTemp = nc.variables['tas'][:]\n",
        "  tas_at_time = varTemp[0, :, :]\n",
        "  plt.figure(figsize=(10, 10))\n",
        "  plt.imshow(tas_at_time, origin='lower', extent=[lat.min(), lat.max(), lon.min(), lon.max()], aspect='auto', cmap='coolwarm', vmin=vminfound, vmax=vmaxfound)\n",
        "  plt.title(\"Temperature in year \"+str(i))\n",
        "  plt.xlabel('Latitude')\n",
        "  plt.ylabel('Longitude')\n",
        "  plt.colorbar(label='Temperature')\n",
        "  temperature.append(plt.gcf())\n",
        "  plt.close()"
      ]
    },
    {
      "cell_type": "code",
      "execution_count": null,
      "metadata": {
        "id": "Z5FKOotEzCSc"
      },
      "outputs": [],
      "source": [
        "activity = []\n",
        "for k in range(1992, 2017):\n",
        "  urbanization = gr.from_file(\"/content/drive/My Drive/Urbanization Project/datasets/urban/annual_urbanMap_global_\"+str(k)+\".tif\")\n",
        "  urbanization = urbanization.to_pandas()\n",
        "  urbanization = urbanization.drop(urbanization[urbanization['value'] == 0.0].index)\n",
        "  urbanization.sort_values(['x','y'], ascending=[True, True], inplace = True)\n",
        "  urbanization = urbanization[['x','y']].apply(lambda x: (x / 0.25).round()* 0.25)\n",
        "  urbanization = urbanization.drop(urbanization[urbanization['x'] % 0.5 == 0.0].index)\n",
        "  urbanization = urbanization.drop(urbanization[urbanization['y'] % 0.5 == 0.0].index)\n",
        "  urbanization.drop_duplicates(subset=['x', 'y'], inplace=True)\n",
        "  urbanization.sort_values(['x','y'], ascending=[True, True], inplace = True)\n",
        "\n",
        "  finals = \"\"\n",
        "  finals2 = []\n",
        "  iter = 0\n",
        "  for i in range(-17975, 17976, 50):\n",
        "    finals = \"\"\n",
        "    for j in range(-8975, 8976, 50):\n",
        "      if (urbanization['x'].loc[urbanization.index[iter]] == i/100 and urbanization['y'].loc[urbanization.index[iter]] == j/100):\n",
        "        finals += \"1\"\n",
        "        if (iter < urbanization.shape[0] - 1):\n",
        "          iter+=1\n",
        "      else:\n",
        "        finals += \"0\"\n",
        "    finals2.append(list(finals))\n",
        "  finals2 = np.array(finals2)\n",
        "  finals2 = np.rot90(finals2, k = 3, axes = (0, 1))\n",
        "  finals2 = np.fliplr(finals2)\n",
        "\n",
        "  plt.imshow(finals2.astype(float), origin='lower', extent=[6.5, 38.5, 66.5, 100], aspect='auto', cmap='coolwarm', vmin = finals2.astype(float).min(), vmax = finals2.astype(float).max()) # Convert finals2 to a float array for numerical operations\n",
        "  plt.title(\"Urbanization in year \"+str(k))\n",
        "  plt.xlabel('Latitude')\n",
        "  plt.ylabel('Longitude')\n",
        "  plt.colorbar(label='Urbanization')\n",
        "  activity.append(plt.gcf())\n",
        "  plt.close()"
      ]
    },
    {
      "cell_type": "code",
      "execution_count": null,
      "metadata": {
        "id": "dlkbWhjrNP_1"
      },
      "outputs": [],
      "source": [
        "arr = [[1, 2], [3, 4]]\n",
        "arr = np.array(arr)\n",
        "arr_split = np.hsplit(arr, 2)[1]\n",
        "arr_split2 = np.vsplit(arr_split, 2)[0]\n",
        "print(arr)\n",
        "print(arr_split)\n",
        "arr_split2"
      ]
    },
    {
      "cell_type": "code",
      "execution_count": null,
      "metadata": {
        "colab": {
          "base_uri": "https://localhost:8080/",
          "height": 872
        },
        "id": "D6fzdp0dDd_K",
        "outputId": "d89f65dd-0a9c-45f6-e5da-ef54dc0d20a9"
      },
      "outputs": [],
      "source": [
        "precipitation[0]"
      ]
    },
    {
      "cell_type": "code",
      "execution_count": null,
      "metadata": {
        "id": "zAIXBuvLkd5O"
      },
      "outputs": [],
      "source": [
        "forests = []\n",
        "for k in range(8, 33):\n",
        "  forest = gr.from_file(\"/content/drive/My Drive/Urbanization Project/datasets/forests/forestGain_\"+str(k)+\".tif\")\n",
        "  forest = forest.to_pandas()\n",
        "  forest = forest.drop(forest[forest['value'] == 0.0].index)\n",
        "  forest.sort_values(['x','y'], ascending=[True, True], inplace = True)\n",
        "  forest = forest[['x','y']].apply(lambda x: (x / 0.25).round()* 0.25)\n",
        "  forest = forest.drop(forest[forest['x'] % 0.5 == 0.0].index)\n",
        "  forest = forest.drop(forest[forest['y'] % 0.5 == 0.0].index)\n",
        "  forest.drop_duplicates(subset=['x', 'y'], inplace=True)\n",
        "  forest.sort_values(['x','y'], ascending=[True, True], inplace = True)\n",
        "\n",
        "  finals = \"\"\n",
        "  finals2 = []\n",
        "  iter = 0\n",
        "  for i in range(-17975, 17976, 50):\n",
        "    finals = \"\"\n",
        "    for j in range(-8975, 8976, 50):\n",
        "      if (forest['x'].loc[forest.index[iter]] == i/100 and forest['y'].loc[forest.index[iter]] == j/100):\n",
        "        finals += \"1\"\n",
        "        if (iter < forest.shape[0] - 1):\n",
        "          iter+=1\n",
        "      else:\n",
        "        finals += \"0\"\n",
        "    finals2.append(list(finals))\n",
        "  finals2 = np.array(finals2)\n",
        "  finals2 = np.rot90(finals2, k = 3, axes = (0, 1))\n",
        "  finals2 = np.fliplr(finals2)\n",
        "\n",
        "  plt.imshow(finals2.astype(float), origin='lower', extent=[min(forest['y']), max(forest['y']), min(forest['x']), max(forest['x'])], aspect='auto', cmap='coolwarm', vmin = finals2.astype(float).min(), vmax = finals2.astype(float).max()) # Convert finals2 to a float array for numerical operations\n",
        "  plt.title(\"Urbanization in year \"+str(k))\n",
        "  plt.xlabel('Latitude')\n",
        "  plt.ylabel('Longitude')\n",
        "  plt.colorbar(label='Forest Gain')\n",
        "  forests.append(plt.gcf())\n",
        "  plt.close()"
      ]
    },
    {
      "cell_type": "code",
      "execution_count": null,
      "metadata": {
        "id": "zu_bn36bFm-A"
      },
      "outputs": [],
      "source": [
        "agriculture = np.array(agriculture)\n",
        "precipitation = np.array(precipitation)\n",
        "temperature = np.array(temperature)\n",
        "activity = np.array(activity)\n",
        "forests = np.array(forests)\n",
        "\n",
        "save_path = '/content/drive/My Drive/agriculture_array.npy'\n",
        "np.save(save_path, agriculture)\n",
        "\n",
        "save_path = '/content/drive/My Drive/urbanization_array.npy'\n",
        "np.save(save_path, activity)\n",
        "\n",
        "save_path = '/content/drive/My Drive/precipitation_array.npy'\n",
        "np.save(save_path, precipitation)\n",
        "\n",
        "save_path = '/content/drive/My Drive/temperature_array.npy'\n",
        "np.save(save_path, temperature)\n",
        "\n",
        "save_path = '/content/drive/My Drive/forests_array.npy'\n",
        "np.save(save_path, forests)"
      ]
    }
  ],
  "metadata": {
    "colab": {
      "provenance": []
    },
    "kernelspec": {
      "display_name": "Python 3",
      "name": "python3"
    },
    "language_info": {
      "name": "python"
    }
  },
  "nbformat": 4,
  "nbformat_minor": 0
}
