{
  "cells": [
    {
      "cell_type": "code",
      "execution_count": null,
      "metadata": {
        "colab": {
          "base_uri": "https://localhost:8080/"
        },
        "id": "H2bITVFrULMa",
        "outputId": "ef735780-a80b-4ccb-b2e5-abecdb86423f"
      },
      "outputs": [],
      "source": [
        "!pip install netCDF4"
      ]
    },
    {
      "cell_type": "code",
      "execution_count": null,
      "metadata": {
        "colab": {
          "base_uri": "https://localhost:8080/"
        },
        "collapsed": true,
        "id": "_5pZBeOHyQH9",
        "outputId": "3163453c-4514-4ae2-9add-50dc69f050c6"
      },
      "outputs": [],
      "source": [
        "from google.colab import drive\n",
        "drive.mount('/content/drive')"
      ]
    },
    {
      "cell_type": "code",
      "execution_count": null,
      "metadata": {
        "id": "yrKLeUQgyU37"
      },
      "outputs": [],
      "source": [
        "import matplotlib.pyplot as plt\n",
        "import netCDF4\n",
        "import numpy as np\n",
        "import string"
      ]
    },
    {
      "cell_type": "code",
      "execution_count": null,
      "metadata": {
        "id": "QyTpb64QTR0c"
      },
      "outputs": [],
      "source": [
        "def createImage(file_name, global_vmin, global_vmax,type):\n",
        "  nc = netCDF4.Dataset(file_name)\n",
        "  time = nc.variables['time'][:]\n",
        "  lon = nc.variables['lon'][:]\n",
        "  lat = nc.variables['lat'][:]\n",
        "  var = nc.variables[type][:]\n",
        "  arr=[]\n",
        "\n",
        "  for time_index in range(len(time)):\n",
        "      tas_at_time = var[time_index, :, :]\n",
        "      plt.figure(figsize=(10, 10))\n",
        "      plt.imshow(tas_at_time, origin='lower', extent=[lat.min(), lat.max(), lon.min(), lon.max()], aspect='auto', cmap='coolwarm', vmin=global_vmin, vmax=global_vmax)\n",
        "      info = 'Temperature at Surface (tas)' if type else 'Precipitation at Surface (pr)'\n",
        "      plt.title(f'{info} at Time Step {time_index+1} for {file_name}')\n",
        "      plt.xlabel('Latitude')\n",
        "      plt.ylabel('Longitude')\n",
        "      plt.colorbar(label= type)\n",
        "      arr.append(plt.gcf())\n",
        "      plt.close()\n",
        "  print(arr)\n",
        "  return arr"
      ]
    },
    {
      "cell_type": "code",
      "execution_count": null,
      "metadata": {
        "id": "zs9SGQPSyf6n"
      },
      "outputs": [],
      "source": [
        "#the bounds are already found by analzing how much data each source has and we get that to be\n",
        "#1992-2016, so it is a pretty simple fix\n",
        "def find_names(start_file_name):\n",
        "  arr=[]\n",
        "  currName=start_file_name\n",
        "  currYr=1992\n",
        "  maxYr=2016\n",
        "  ran=maxYr-currYr\n",
        "  for i in range(ran+1):\n",
        "    arr.append(currName)\n",
        "    currName = currName.replace(str(currYr), str(currYr+1))\n",
        "    currYr+=1\n",
        "  return np.array(arr)"
      ]
    },
    {
      "cell_type": "code",
      "execution_count": null,
      "metadata": {
        "id": "G6LdWtcYyiDu"
      },
      "outputs": [],
      "source": [
        "#In order to scale all the heatmaps of the data the same you have to get the variable min\n",
        "#and max by looping through it all which is basically what this code segent does\n",
        "def calc_bounds(files, type):\n",
        "  global_var_min=10e9\n",
        "  global_var_max=10e-9\n",
        "  for i in files:\n",
        "    nc = netCDF4.Dataset(i)\n",
        "    time = nc.variables['time'][:]\n",
        "    for time_index in range(len(time)):\n",
        "      var = nc.variables[type][:]\n",
        "      global_var_min=min(global_var_min, var.min())\n",
        "      global_var_max=max(global_var_max, var.max())\n",
        "  return global_var_min,global_var_max"
      ]
    },
    {
      "cell_type": "code",
      "execution_count": null,
      "metadata": {
        "id": "As0l6G0ZykEs"
      },
      "outputs": [],
      "source": [
        "def return_final_plots(starter):\n",
        "  type='tas'\n",
        "  if 'precip' in starter:\n",
        "    type='pr'\n",
        "  listOfFiles=find_names(starter)\n",
        "  currmin,currmax=calc_bounds(listOfFiles, type)\n",
        "  plots=[]\n",
        "  for i in listOfFiles:\n",
        "\n",
        "        plot = createImage(i, currmin, currmax, type)\n",
        "        plots.append(plot)\n",
        "\n",
        "  print(plots)\n",
        "  return plots"
      ]
    },
    {
      "cell_type": "code",
      "execution_count": null,
      "metadata": {
        "colab": {
          "base_uri": "https://localhost:8080/"
        },
        "collapsed": true,
        "id": "6so3jv2I1GmB",
        "outputId": "1ba1c2ba-f3dc-43c1-c7fc-a290f422ac8e"
      },
      "outputs": [],
      "source": [
        "currPrepPlots = return_final_plots(\"/content/drive/MyDrive/dataset-insitu-gridded-observations-global-and-regional-077c7a7b-663b-4bfd-9628-d732561c7baa/CRU_total_precipitation_mon_0.5x0.5_global_1992_v4.03.nc\")\n",
        "currTempPlots = return_final_plots( \"/content/drive/MyDrive/dataset-insitu-gridded-observations-global-and-regional-077c7a7b-663b-4bfd-9628-d732561c7baa/CRU_mean_temperature_mon_0.5x0.5_global_1992_v4.03.nc\")\n",
        "for i in currPrepPlots:\n",
        "  for j in i:\n",
        "    j.show()\n",
        "for i in currTempPlots:\n",
        "  for j in i:\n",
        "    j.show()\n"
      ]
    },
    {
      "cell_type": "code",
      "execution_count": null,
      "metadata": {
        "colab": {
          "base_uri": "https://localhost:8080/"
        },
        "id": "943lHvac8AwL",
        "outputId": "ac42fd86-67a3-4981-8737-325cd52bd2d2"
      },
      "outputs": [],
      "source": []
    },
    {
      "cell_type": "markdown",
      "metadata": {
        "id": "OQJ6L1FP0257"
      },
      "source": [
        "Starter File= \"/content/drive/MyDrive/dataset-insitu-gridded-observations-global-and-regional-077c7a7b-663b-4bfd-9628-d732561c7baa/CRU_total_precipitation_mon_0.5x0.5_global_1992_v4.03.nc\""
      ]
    },
    {
      "cell_type": "markdown",
      "metadata": {
        "id": "laueD5wZ0evr"
      },
      "source": [
        "Starter File= \"/content/drive/MyDrive/dataset-insitu-gridded-observations-global-and-regional-077c7a7b-663b-4bfd-9628-d732561c7baa/CRU_mean_temperature_mon_0.5x0.5_global_1992_v4.03.nc\""
      ]
    }
  ],
  "metadata": {
    "colab": {
      "provenance": []
    },
    "kernelspec": {
      "display_name": "Python 3",
      "name": "python3"
    },
    "language_info": {
      "name": "python"
    }
  },
  "nbformat": 4,
  "nbformat_minor": 0
}
