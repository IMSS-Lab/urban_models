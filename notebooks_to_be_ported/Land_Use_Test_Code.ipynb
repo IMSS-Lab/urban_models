{
  "cells": [
    {
      "cell_type": "code",
      "execution_count": null,
      "metadata": {
        "colab": {
          "base_uri": "https://localhost:8080/"
        },
        "collapsed": true,
        "id": "OSewQK5B7awx",
        "outputId": "19b83e2f-f3c4-45a6-ddb1-f9be00d9880b"
      },
      "outputs": [],
      "source": [
        "!pip install netCDF4\n",
        "!pip3 install numpy pylibtiff\n",
        "!pip install georasters"
      ]
    },
    {
      "cell_type": "code",
      "execution_count": null,
      "metadata": {
        "colab": {
          "base_uri": "https://localhost:8080/"
        },
        "id": "Jz7TC_D372sD",
        "outputId": "a693891c-a134-4a80-a2cb-0fd6f1b12eca"
      },
      "outputs": [],
      "source": [
        "from google.colab import drive\n",
        "drive.mount('/content/drive') #\"/content/drive/MyDrive/forests/ESACCI-LC-L4-LCCS-Map-300m-P1Y-\"+str(i)+\"-v2.0.7cds.nc\""
      ]
    },
    {
      "cell_type": "code",
      "execution_count": null,
      "metadata": {
        "id": "aKiA3DhT74WA"
      },
      "outputs": [],
      "source": [
        "import matplotlib.pyplot as plt\n",
        "import netCDF4\n",
        "import numpy as np\n",
        "import string\n",
        "\n",
        "import torch\n",
        "import torch.nn as nn\n",
        "import torch.nn.functional as F\n",
        "from torch.utils.data import DataLoader\n",
        "from torchvision import datasets, transforms\n",
        "from torchvision.utils import make_grid\n",
        "\n",
        "import pandas as pd\n",
        "from sklearn.metrics import confusion_matrix\n",
        "import matplotlib.pyplot as plot\n",
        "%matplotlib inline\n",
        "\n",
        "\n",
        "\n",
        "import gspread\n",
        "from google.auth import default\n",
        "creds, _ = default()\n",
        "\n",
        "gc = gspread.authorize(creds)\n",
        "\n",
        "\n",
        "from libtiff import TIFF\n",
        "import georasters as gr\n",
        "import xarray as xr"
      ]
    },
    {
      "cell_type": "code",
      "execution_count": null,
      "metadata": {
        "colab": {
          "base_uri": "https://localhost:8080/"
        },
        "collapsed": true,
        "id": "BiUOgq-SOXa9",
        "outputId": "a35f5e30-11b7-47ee-9b5a-38c7056855b1"
      },
      "outputs": [],
      "source": [
        "# installations ( uncomment and run this cell ONLY when using google colab or kaggle )\n",
        "\n",
        "!pip install s3fs --quiet\n",
        "\n",
        "# # properly install cartopy in colab to avoid session crash\n",
        "!apt-get install libproj-dev proj-data proj-bin --quiet\n",
        "!apt-get install libgeos-dev --quiet\n",
        "!pip install cython --quiet\n",
        "!pip install cartopy --quiet\n",
        "!pip install geoviews\n",
        "\n",
        "!apt-get -qq install python-cartopy python3-cartopy  --quiet\n",
        "!pip uninstall -y shapely  --quiet\n",
        "!pip install shapely --no-binary shapely  --quiet\n",
        "\n",
        "!pip install boto3 --quiet\n",
        "\n",
        "# you may need to restart the runtime after running this cell and that is ok"
      ]
    },
    {
      "cell_type": "code",
      "execution_count": null,
      "metadata": {
        "id": "mKVvZH6TOZrX"
      },
      "outputs": [],
      "source": [
        "import s3fs\n",
        "import xarray as xr\n",
        "import numpy as np\n",
        "import matplotlib.pyplot as plt\n",
        "import cartopy\n",
        "import cartopy.crs as ccrs\n",
        "import boto3\n",
        "import botocore\n",
        "import os\n",
        "import pooch\n",
        "import tempfile\n",
        "import holoviews\n",
        "from geoviews import Dataset as gvDataset\n",
        "import geoviews.feature as gf\n",
        "from geoviews import Image as gvImage"
      ]
    },
    {
      "cell_type": "code",
      "execution_count": null,
      "metadata": {
        "colab": {
          "base_uri": "https://localhost:8080/"
        },
        "id": "l9NkTEK28Ve0",
        "outputId": "e344b69a-31f2-4ba8-f177-4854cf82751d"
      },
      "outputs": [],
      "source": [
        "dataset = netCDF4.Dataset('/content/drive/MyDrive/forests/ESACCI-LC-L4-LCCS-Map-300m-P1Y-1992-v2.0.7cds.nc', 'r')\n",
        "variable_names = list(dataset.variables)\n",
        "print(variable_names)"
      ]
    },
    {
      "cell_type": "code",
      "execution_count": null,
      "metadata": {
        "colab": {
          "base_uri": "https://localhost:8080/"
        },
        "id": "-iXBFzGhVPNP",
        "outputId": "53965950-b883-4957-bc78-3db74e434bbd"
      },
      "outputs": [],
      "source": [
        "land_cover=dataset.variables['lccs_class']\n",
        "print(land_cover)"
      ]
    },
    {
      "cell_type": "code",
      "execution_count": null,
      "metadata": {
        "id": "siplrC30WEm1"
      },
      "outputs": [],
      "source": [
        "import xarray as xr\n",
        "import numpy as np\n",
        "import matplotlib.pyplot as plt\n",
        "import matplotlib.colors as mcolors\n",
        "\n",
        "# Load the dataset using xarray with Dask for lazy loading\n",
        "ds = xr.open_dataset('/content/drive/MyDrive/forests/ESACCI-LC-L4-LCCS-Map-300m-P1Y-1992-v2.0.7cds.nc', chunks={'time': 1})\n",
        "\n",
        "# Access the lccs_class variable as a DataArray\n",
        "land_cover = ds['lccs_class'].sel(time=\"1992-01-01\")  # Select the desired time slice\n",
        "\n",
        "# Optionally downsample the data if it's too large\n",
        "land_cover_downsampled = land_cover.coarsen(lat=2, lon=2).mean()  # Downsample by averaging\n",
        "\n",
        "# Define the color map based on the flag_colors provided\n",
        "flag_colors = [\n",
        "    \"#ffff64\", \"#ffff64\", \"#ffff00\", \"#aaf0f0\", \"#dcf064\", \"#c8c864\",\n",
        "    \"#006400\", \"#00a000\", \"#00a000\", \"#aac800\", \"#003c00\", \"#003c00\",\n",
        "    \"#005000\", \"#285000\", \"#285000\", \"#286400\", \"#788200\", \"#8ca000\",\n",
        "    \"#be9600\", \"#966400\", \"#966400\", \"#966400\", \"#ffb432\", \"#ffdcd2\",\n",
        "    \"#ffebaf\", \"#ffc864\", \"#ffd278\", \"#ffebaf\", \"#00785a\", \"#009678\",\n",
        "    \"#00dc82\", \"#c31400\", \"#fff5d7\", \"#dcdcdc\", \"#fff5d7\", \"#0046c8\",\n",
        "    \"#ffffff\"\n",
        "]\n",
        "\n",
        "# Create a colormap\n",
        "cmap = mcolors.ListedColormap(flag_colors)\n",
        "\n",
        "# Create a figure and axis\n",
        "plt.figure(figsize=(12, 8))\n",
        "plt.imshow(land_cover_downsampled, cmap=cmap, interpolation='nearest', vmin=0, vmax=220)\n",
        "plt.colorbar(ticks=np.arange(0, 221, 10), label='LCCS Class')\n",
        "plt.title('Land Cover Classification (LCCS Class) for 1992')\n",
        "plt.xlabel('Longitude Index')\n",
        "plt.ylabel('Latitude Index')\n",
        "plt.grid(False)  # Disable grid for better visualization\n",
        "plt.show()\n",
        "\n",
        "# Clear variables to free memory\n",
        "del ds\n",
        "import gc\n",
        "gc.collect()  # Call garbage collector"
      ]
    },
    {
      "cell_type": "code",
      "execution_count": null,
      "metadata": {
        "id": "PLhsI22tWFBo"
      },
      "outputs": [],
      "source": []
    }
  ],
  "metadata": {
    "colab": {
      "provenance": []
    },
    "kernelspec": {
      "display_name": "Python 3",
      "name": "python3"
    },
    "language_info": {
      "name": "python"
    }
  },
  "nbformat": 4,
  "nbformat_minor": 0
}
